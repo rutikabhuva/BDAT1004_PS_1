{
  "cells": [
    {
      "cell_type": "markdown",
      "id": "24c3f104",
      "metadata": {
        "id": "24c3f104"
      },
      "source": [
        "# Question 1\n",
        "What data type is each of the following (evaluate where necessary)?\n",
        "5"
      ]
    },
    {
      "cell_type": "code",
      "execution_count": 2,
      "id": "5bcf8840",
      "metadata": {
        "colab": {
          "base_uri": "https://localhost:8080/"
        },
        "id": "5bcf8840",
        "outputId": "5023d573-3c06-41a2-e51d-4457e0da6339"
      },
      "outputs": [
        {
          "output_type": "stream",
          "name": "stdout",
          "text": [
            "<class 'int'>\n"
          ]
        }
      ],
      "source": [
        "x=5;\n",
        "print(type(x))\n"
      ]
    },
    {
      "cell_type": "markdown",
      "id": "a25dfbbc",
      "metadata": {
        "id": "a25dfbbc"
      },
      "source": [
        "5.0"
      ]
    },
    {
      "cell_type": "code",
      "execution_count": 3,
      "id": "06cf7d7f",
      "metadata": {
        "colab": {
          "base_uri": "https://localhost:8080/"
        },
        "id": "06cf7d7f",
        "outputId": "b6fbe5d8-76c4-43a5-e154-a58b46f220f8"
      },
      "outputs": [
        {
          "output_type": "stream",
          "name": "stdout",
          "text": [
            "<class 'float'>\n"
          ]
        }
      ],
      "source": [
        "x = 5.0;\n",
        "print(type(x))\n"
      ]
    },
    {
      "cell_type": "markdown",
      "id": "3fdacb91",
      "metadata": {
        "id": "3fdacb91"
      },
      "source": [
        "5>1"
      ]
    },
    {
      "cell_type": "code",
      "execution_count": null,
      "id": "3c3aae62",
      "metadata": {
        "id": "3c3aae62",
        "outputId": "caa5e311-01a4-4d96-aee8-36c6726fd3a6"
      },
      "outputs": [
        {
          "name": "stdout",
          "output_type": "stream",
          "text": [
            "<class 'bool'>\n"
          ]
        }
      ],
      "source": [
        "5 > 1\n",
        "print(type(5 > 1))"
      ]
    },
    {
      "cell_type": "markdown",
      "id": "bc3665f7",
      "metadata": {
        "id": "bc3665f7"
      },
      "source": [
        "'5'"
      ]
    },
    {
      "cell_type": "code",
      "execution_count": null,
      "id": "ec2cac3d",
      "metadata": {
        "id": "ec2cac3d",
        "outputId": "4da73865-e274-48c5-ebf6-2ef5d3441bf3"
      },
      "outputs": [
        {
          "name": "stdout",
          "output_type": "stream",
          "text": [
            "<class 'str'>\n"
          ]
        }
      ],
      "source": [
        "x = '5';\n",
        "print (type(x))"
      ]
    },
    {
      "cell_type": "markdown",
      "id": "7897a33b",
      "metadata": {
        "id": "7897a33b"
      },
      "source": [
        "5*2"
      ]
    },
    {
      "cell_type": "code",
      "execution_count": null,
      "id": "e1292c99",
      "metadata": {
        "id": "e1292c99",
        "outputId": "a91bc7c4-e8ae-4dfc-c89e-becd4110f377"
      },
      "outputs": [
        {
          "name": "stdout",
          "output_type": "stream",
          "text": [
            "<class 'int'>\n"
          ]
        }
      ],
      "source": [
        "x = (5*2)\n",
        "print(type(x))"
      ]
    },
    {
      "cell_type": "markdown",
      "id": "624f1a2f",
      "metadata": {
        "id": "624f1a2f"
      },
      "source": [
        "'5' + '2'"
      ]
    },
    {
      "cell_type": "code",
      "execution_count": 4,
      "id": "3b2a1801",
      "metadata": {
        "colab": {
          "base_uri": "https://localhost:8080/"
        },
        "id": "3b2a1801",
        "outputId": "87f4b1cf-b09b-4561-db65-46a7c9f6acbe"
      },
      "outputs": [
        {
          "output_type": "stream",
          "name": "stdout",
          "text": [
            "<class 'str'>\n"
          ]
        }
      ],
      "source": [
        "x = '5' + '2'\n",
        "print(type(x))\n"
      ]
    },
    {
      "cell_type": "markdown",
      "id": "a204e505",
      "metadata": {
        "id": "a204e505"
      },
      "source": [
        "5/2"
      ]
    },
    {
      "cell_type": "code",
      "execution_count": null,
      "id": "f6546287",
      "metadata": {
        "id": "f6546287",
        "outputId": "2e41a2c5-6f18-4209-90b1-f765331cf4cf"
      },
      "outputs": [
        {
          "name": "stdout",
          "output_type": "stream",
          "text": [
            "<class 'float'>\n"
          ]
        }
      ],
      "source": [
        "x = 5/2\n",
        "print(type(x))"
      ]
    },
    {
      "cell_type": "markdown",
      "id": "046904a1",
      "metadata": {
        "id": "046904a1"
      },
      "source": [
        "5 % 2"
      ]
    },
    {
      "cell_type": "code",
      "execution_count": null,
      "id": "3ec10d2b",
      "metadata": {
        "id": "3ec10d2b",
        "outputId": "4ae62b26-6eb3-4f77-aa2a-0fe9836809e5"
      },
      "outputs": [
        {
          "name": "stdout",
          "output_type": "stream",
          "text": [
            "<class 'int'>\n"
          ]
        }
      ],
      "source": [
        "x = 5 % 2 ;\n",
        "print(type(x))"
      ]
    },
    {
      "cell_type": "markdown",
      "id": "68feff43",
      "metadata": {
        "id": "68feff43"
      },
      "source": [
        "{5,2,1}"
      ]
    },
    {
      "cell_type": "code",
      "execution_count": null,
      "id": "883d66a5",
      "metadata": {
        "id": "883d66a5",
        "outputId": "19c68877-006e-4823-c23b-f7c67a1cee6f"
      },
      "outputs": [
        {
          "name": "stdout",
          "output_type": "stream",
          "text": [
            "<class 'set'>\n"
          ]
        }
      ],
      "source": [
        "x = {5,2,1}\n",
        "print(type(x))"
      ]
    },
    {
      "cell_type": "markdown",
      "id": "ada78b7f",
      "metadata": {
        "id": "ada78b7f"
      },
      "source": [
        "(5 == 3)"
      ]
    },
    {
      "cell_type": "code",
      "execution_count": null,
      "id": "9ce9db42",
      "metadata": {
        "id": "9ce9db42",
        "outputId": "028507f2-8c11-455e-a0e7-73b1d53b1efc"
      },
      "outputs": [
        {
          "name": "stdout",
          "output_type": "stream",
          "text": [
            "<class 'bool'>\n"
          ]
        }
      ],
      "source": [
        "x = (5 == 3)\n",
        "print(type(x))"
      ]
    },
    {
      "cell_type": "code",
      "execution_count": null,
      "id": "3c0be09a",
      "metadata": {
        "id": "3c0be09a",
        "outputId": "632bce62-916a-499f-fe24-1de0d8357aae"
      },
      "outputs": [
        {
          "name": "stdout",
          "output_type": "stream",
          "text": [
            "<class 'float'>\n"
          ]
        }
      ],
      "source": [
        "import math\n",
        "print(type(math.pi))"
      ]
    },
    {
      "cell_type": "markdown",
      "id": "8da83312",
      "metadata": {
        "id": "8da83312"
      },
      "source": [
        "# question 2 a.\n",
        "Write (and evaluate) python expressions that answer these questions:\n",
        "    a. How many letters are there in 'Supercalifragilisticexpialidocious'?"
      ]
    },
    {
      "cell_type": "code",
      "execution_count": null,
      "id": "f20febd0",
      "metadata": {
        "id": "f20febd0",
        "outputId": "829df8e7-9801-4934-8192-fa3ad0c60850"
      },
      "outputs": [
        {
          "name": "stdout",
          "output_type": "stream",
          "text": [
            "34\n"
          ]
        }
      ],
      "source": [
        "x= 'Supercalifragilisticexpialidocious'\n",
        "print(len(x))"
      ]
    },
    {
      "cell_type": "markdown",
      "id": "c8321129",
      "metadata": {
        "id": "c8321129"
      },
      "source": [
        "     b. Does 'Supercalifragilisticexpialidocious' contain 'ice' as a substring?"
      ]
    },
    {
      "cell_type": "code",
      "execution_count": null,
      "id": "81f8f197",
      "metadata": {
        "id": "81f8f197",
        "outputId": "154a8eb6-cf32-4321-8ea3-42efbe7c2ffd"
      },
      "outputs": [
        {
          "name": "stdout",
          "output_type": "stream",
          "text": [
            "True\n"
          ]
        }
      ],
      "source": [
        "x = 'Supercalifragilisticexpialidocious'\n",
        "print('ice' in x)"
      ]
    },
    {
      "cell_type": "markdown",
      "id": "f0f8ddd1",
      "metadata": {
        "id": "f0f8ddd1"
      },
      "source": [
        "Which of the following words is the longest:\n",
        "Supercalifragilisticexpialidocious, Honorificabilitudinitatibus, or\n",
        "Bababadalgharaghtakamminarronnkonn?"
      ]
    },
    {
      "cell_type": "code",
      "execution_count": null,
      "id": "57bea789",
      "metadata": {
        "id": "57bea789",
        "outputId": "5f4c3daa-d17b-4bd5-a1a7-97ed1b70deb7"
      },
      "outputs": [
        {
          "name": "stdout",
          "output_type": "stream",
          "text": [
            "The longest word is Supercalifragilisticexpialidocious\n"
          ]
        }
      ],
      "source": [
        "words = ['Supercalifragilisticexpialidocious', 'Honorificabilitudinitatibus',\n",
        "'Bababadalgharaghtakamminarronnkonn']\n",
        "longestword = \"\"\n",
        "for x in words:\n",
        "    if (len(x) > len(longestword)):\n",
        "        longestword = x\n",
        "print(\"The longest word is \" + longestword)"
      ]
    },
    {
      "cell_type": "markdown",
      "id": "232906ad",
      "metadata": {
        "id": "232906ad"
      },
      "source": [
        "# Question 2 b.\n",
        "Which composer comes first in the dictionary: 'Berlioz', 'Borodin', 'Brian',\n",
        "'Bartok', 'Bellini', 'Buxtehude', 'Bernstein'. Which one comes last?"
      ]
    },
    {
      "cell_type": "code",
      "execution_count": null,
      "id": "38b082ac",
      "metadata": {
        "id": "38b082ac",
        "outputId": "a3e6ac2d-70f7-4cad-b6f4-b908d998e1c9"
      },
      "outputs": [
        {
          "name": "stdout",
          "output_type": "stream",
          "text": [
            "['Bartok', 'Bellini', 'Berlioz', 'Bernstein', 'Borodin', 'Brian', 'Buxtehude']\n"
          ]
        }
      ],
      "source": [
        "composer = ['Berlioz', 'Borodin', 'Brian',\n",
        "'Bartok', 'Bellini', 'Buxtehude', 'Bernstein']\n",
        "composer = sorted(composer)\n",
        "print(composer)"
      ]
    },
    {
      "cell_type": "markdown",
      "id": "b2e563ea",
      "metadata": {
        "id": "b2e563ea"
      },
      "source": [
        "# Question 3\n",
        "Implement function triangleArea(a,b,c) that takes as input the lengths of the 3\n",
        "sides of a triangle and returns the area of the triangle. By Heron's formula, the area\n",
        "of a triangle with side lengths a, b, and c is\n",
        "s(s - a)(s -b)(s -c)\n",
        ", where\n",
        "s = (a+b+c)/2."
      ]
    },
    {
      "cell_type": "code",
      "execution_count": null,
      "id": "e4471aba",
      "metadata": {
        "id": "e4471aba",
        "outputId": "80287bad-c64a-4314-b72c-1b1549f79e87"
      },
      "outputs": [
        {
          "name": "stdout",
          "output_type": "stream",
          "text": [
            "3.872983346207417\n"
          ]
        }
      ],
      "source": [
        "import math\n",
        "def trigarea(a,b,c):\n",
        "    s = (a+b+c)/2\n",
        "    area = math.sqrt(s*(s - a)*(s -b)*(s -c))\n",
        "    return area\n",
        "print(trigarea(4,2,4,))"
      ]
    },
    {
      "cell_type": "markdown",
      "id": "57bf24a7",
      "metadata": {
        "id": "57bf24a7"
      },
      "source": [
        "# question 4\n",
        "Write a program in python to separate odd and even integers in separate arrays. Go\n",
        "to the editor\n",
        "Test Data :\n",
        "Input the number of elements to be stored in the array :5\n",
        "Input 5 elements in the array :\n",
        "element - 0 : 25\n",
        "element - 1 : 47\n",
        "element - 2 : 42\n",
        "element - 3 : 56\n",
        "element - 4 : 32\n",
        "Expected Output:\n",
        "The Even elements are:\n",
        "42 56 32\n",
        "The Odd elements are :\n",
        "25 47"
      ]
    },
    {
      "cell_type": "code",
      "execution_count": null,
      "id": "0b3c8806",
      "metadata": {
        "id": "0b3c8806",
        "outputId": "3268f650-4c44-41e0-d104-520baf682c7c"
      },
      "outputs": [
        {
          "name": "stdout",
          "output_type": "stream",
          "text": [
            "[42, 56, 32]\n",
            "[25, 47]\n"
          ]
        }
      ],
      "source": [
        "evennum = []\n",
        "oddnum = []\n",
        "numbers = [25,47,42,56,32]\n",
        "for x in numbers:\n",
        "    if (x%2 ==0):\n",
        "        evennum.append(x)\n",
        "    else:\n",
        "        oddnum.append(x)\n",
        "\n",
        "print(evennum)\n",
        "print(oddnum)"
      ]
    },
    {
      "cell_type": "markdown",
      "id": "b716c3b5",
      "metadata": {
        "id": "b716c3b5"
      },
      "source": [
        "# question 5 a.\n",
        "Write a function inside(x,y,x1,y1,x2,y2) that returns True or False\n",
        "depending on whether the point (x,y) lies in the rectangle with lower left\n",
        "corner (x1,y1) and upper right corner (x2,y2)."
      ]
    },
    {
      "cell_type": "code",
      "execution_count": null,
      "id": "14e0c80f",
      "metadata": {
        "id": "14e0c80f",
        "outputId": "348464db-05fe-44c3-ab4d-1ce293878973"
      },
      "outputs": [
        {
          "name": "stdout",
          "output_type": "stream",
          "text": [
            "True\n",
            "False\n"
          ]
        }
      ],
      "source": [
        "def inside(x,y,x1,y1,x2,y2):\n",
        "    if x1 < x < x2 and y1 < y < y2:\n",
        "        return True\n",
        "    else:\n",
        "        return False\n",
        "print(inside(1,1,0,0,2,3))\n",
        "print(inside(-1,-1,0,0,2,3))\n"
      ]
    },
    {
      "cell_type": "markdown",
      "id": "06fb5270",
      "metadata": {
        "id": "06fb5270"
      },
      "source": [
        "# Question 5 b.\n",
        "Use function inside() from part a. to write an expression that tests whether\n",
        "the point (1,1) lies in both of the following rectangles: one with lower left\n",
        "corner (0.3, 0.5) and upper right corner (1.1, 0.7) and the other with lower\n",
        "left corner (0.5, 0.2) and upper right corner (1.1, 2)."
      ]
    },
    {
      "cell_type": "code",
      "execution_count": null,
      "id": "d264447c",
      "metadata": {
        "id": "d264447c",
        "outputId": "a7905cf4-7b39-4d67-9c3c-2d7223dc5fc1"
      },
      "outputs": [
        {
          "name": "stdout",
          "output_type": "stream",
          "text": [
            "False\n",
            "True\n"
          ]
        }
      ],
      "source": [
        "def inside(x,y,x1,y1,x2,y2):\n",
        "    if x1 < x < x2 and y1 < y < y2:\n",
        "        return True\n",
        "    else:\n",
        "        return False\n",
        "print(inside(1,1,0.3,0.5,1.1,0.7))\n",
        "print(inside(1,1,0.5,0.2,1.1,2))\n"
      ]
    },
    {
      "cell_type": "markdown",
      "id": "79293d26",
      "metadata": {
        "id": "79293d26"
      },
      "source": [
        "# Question 6\n",
        "You can turn a word into pig-Latin using the following two rules (simplified):\n",
        "• If the word starts with a consonant, move that letter to the end and append\n",
        "'ay'. For example, 'happy' becomes 'appyhay' and 'pencil' becomes 'encilpay'.\n",
        "• If the word starts with a vowel, simply append 'way' to the end of the word.\n",
        "For example, 'enter' becomes 'enterway' and 'other' becomes 'otherway' . For\n",
        "our purposes, there are 5 vowels: a, e, i, o, u (so we count y as a consonant).\n",
        "Write a function pig() that takes a word (i.e., a string) as input and returns its pigLatin form. Your function should still work if the input word contains upper case\n",
        "characters. Your output should always be lower case however."
      ]
    },
    {
      "cell_type": "code",
      "execution_count": 5,
      "id": "390ca063",
      "metadata": {
        "colab": {
          "base_uri": "https://localhost:8080/"
        },
        "id": "390ca063",
        "outputId": "6fece91f-45dd-4a9d-df08-764d331dc61f"
      },
      "outputs": [
        {
          "output_type": "stream",
          "name": "stdout",
          "text": [
            " enter a word\n",
            "happy\n",
            "appyhay\n",
            "\n",
            " enter a word\n",
            "enter\n",
            "enterway\n"
          ]
        }
      ],
      "source": [
        "def pig(user_input):\n",
        "    word = user_input\n",
        "    char = []\n",
        "    for x in word:\n",
        "        char.append(x)\n",
        "    value = \"\"\n",
        "    x = char[0]\n",
        "\n",
        "    if(x=='a' or x=='e' or x=='i' or x=='o' or x=='u'):\n",
        "        char.append('way')\n",
        "    else:\n",
        "        char.pop(0)\n",
        "        char.append(x)\n",
        "        char.append('ay')\n",
        "\n",
        "    for x in char:\n",
        "        value +=x\n",
        "\n",
        "    return value\n",
        "\n",
        "\n",
        "\n",
        "print(\" enter a word\")\n",
        "user_value = input()\n",
        "print(pig(user_value))\n",
        "print(\"\\n enter a word\")\n",
        "user_value = input()\n",
        "print(pig(user_value))\n",
        "\n"
      ]
    },
    {
      "cell_type": "markdown",
      "id": "203b230b",
      "metadata": {
        "id": "203b230b"
      },
      "source": [
        "# Question 7\n",
        "File bloodtype1.txt records blood-types of patients (A, B, AB, O or OO) at a clinic.\n",
        "Write a function bldcount() that reads the file with name name and reports (i.e.,\n",
        "prints) how many patients there are in each bloodtype."
      ]
    },
    {
      "cell_type": "code",
      "execution_count": null,
      "id": "6b7c60f4",
      "metadata": {
        "id": "6b7c60f4",
        "outputId": "431f9a4d-f71b-4670-e002-6db8a592a846"
      },
      "outputs": [
        {
          "name": "stdout",
          "output_type": "stream",
          "text": [
            " There are 15 patients with blood type A\n",
            " There are 1 patients with blood type B\n",
            " There are 13 patients with blood type AB\n",
            " There are 15 patients with blood type O\n",
            " There are 0 patients with blood type OO\n"
          ]
        }
      ],
      "source": [
        "def bldcount(contents):\n",
        "    g= open(contents,\"r\")\n",
        "    data = g.read()\n",
        "    count_dat = 0\n",
        "    split_data = data.split()\n",
        "    given_data = ['A', 'B', 'AB', 'O', 'OO']\n",
        "    for x in given_data:\n",
        "        count_dat = split_data.count(x)\n",
        "        print(\" There are {0} patients with blood type {1}\".format(count_dat,x))\n",
        "bldcount(r\"bloodtype1.txt\")"
      ]
    },
    {
      "cell_type": "markdown",
      "id": "909d9648",
      "metadata": {
        "id": "909d9648"
      },
      "source": [
        "# Question 8\n",
        "Write a function curconv() that takes as input:\n",
        "1. a currency represented using a string (e.g., 'JPY' for the Japanese Yen or\n",
        "'EUR' for the Euro)\n",
        "2. an amount\n",
        "and then converts and returns the amount in US dollars."
      ]
    },
    {
      "cell_type": "code",
      "execution_count": null,
      "id": "a85cb614",
      "metadata": {
        "id": "a85cb614",
        "outputId": "cd66e956-0bba-4b2a-97cb-51ad6fe3c444"
      },
      "outputs": [
        {
          "name": "stdout",
          "output_type": "stream",
          "text": [
            "Enter Currency\n",
            "Enter Value\n"
          ]
        },
        {
          "data": {
            "text/plain": [
              "206.90314"
            ]
          },
          "execution_count": 28,
          "metadata": {},
          "output_type": "execute_result"
        }
      ],
      "source": [
        "def curconv(currency,amount):\n",
        "    #with open(\"currencies.txt\", \"r\")\n",
        "    #data = f.read()\n",
        "    #rate = ['AUD', '1.0345157', 'Australian', 'Dollar', 'CHF', '1.0237414', 'Swiss', 'Franc', 'CNY', '0.1550176', 'Chinese', 'Yuan', 'DKK', '0.1651442', 'Danish', 'Krone', 'EUR', '1.2296544', 'Euro', 'GBP', '1.5550989', 'British', 'Pound', 'HKD', '0.1270207', 'Hong', 'Kong', 'Dollar', 'INR', '0.0177643', 'Indian', 'Rupee', 'JPY', '0.01241401', 'Japanese', 'Yen', 'MXN', '0.0751848', 'Mexican', 'Peso', 'MYR', '0.3145411', 'Malaysian', 'Ringgit', 'NOK', '0.1677063', 'Norwegian', 'Krone', 'NZD', '0.8003591', 'New', 'Zealand', 'Dollar', 'PHP', '0.0233234', 'Philippine', 'Peso', 'SEK', '0.148269', 'Swedish', 'Krona', 'SGD', '0.788871', 'Singapore', 'Dollar', 'THB', '0.0313789', 'Thai', 'Baht']\n",
        "    # get_index = rate.index(currency)\n",
        "    # conv_value = rate[get_index+1]\n",
        "    exchange_rates = {\n",
        "        'AUD': 1.0345157,\n",
        "        'CHF': 1.0237414,\n",
        "        'CNY': 0.1550176,\n",
        "        'DKK': 0.1651442,\n",
        "        'EUR': 1.2296544,\n",
        "        'GBP': 1.5550989,\n",
        "        'HKD': 0.1270207,\n",
        "        'INR': 0.0177643,\n",
        "        'JPY': 0.01241401,\n",
        "        'MXN': 0.0751848,\n",
        "        'MYR': 0.3145411,\n",
        "        'NOK': 0.1677063,\n",
        "        'NZD': 0.8003591,\n",
        "        'PHP': 0.0233234,\n",
        "        'SEK': 0.148269,\n",
        "        'SGD': 0.788871,\n",
        "        'THB': 0.0313789,\n",
        "    }\n",
        "    # convert = float(conv_value) * float(amount)\n",
        "    # print(convert)\n",
        "    if currency in exchange_rates:\n",
        "        usd_amount = amount * exchange_rates[currency]\n",
        "        return usd_amount\n",
        "    else:\n",
        "        return \"Currency code not found in exchange rates\"\n",
        "\n",
        "print(\"Enter Currency\")\n",
        "currency = input(\"Enter Currency\")\n",
        "print(\"Enter Value\")\n",
        "amount = eval(input(\"Enter Value\"))\n",
        "curconv(currency,amount)\n"
      ]
    },
    {
      "cell_type": "markdown",
      "id": "6a37dda6",
      "metadata": {
        "id": "6a37dda6"
      },
      "source": [
        "split_rate = rates.index(currencies)\n",
        "cur_amount = rates[split_rate +1]\n",
        "convert = float(cur_amount) *float(value)\n",
        "print(convert)\n",
        "\n",
        "print(\"Enter currency\")\n",
        "currencies = input()\n",
        "print(\"Enter value\")\n",
        "value = input()\n",
        "curconv(currencies,value)"
      ]
    },
    {
      "cell_type": "markdown",
      "id": "8075c7bd",
      "metadata": {
        "id": "8075c7bd"
      },
      "source": [
        "# Question 9"
      ]
    },
    {
      "cell_type": "markdown",
      "id": "1e5180d6",
      "metadata": {
        "id": "1e5180d6"
      },
      "source": [
        "Trying to add incompatible variables, as in\n",
        "adding 6 + ‘a’"
      ]
    },
    {
      "cell_type": "markdown",
      "id": "e1aae574",
      "metadata": {
        "id": "e1aae574"
      },
      "source": [
        "unsupported operand type(s) for +: 'int' and 'str'\n"
      ]
    },
    {
      "cell_type": "markdown",
      "id": "a5ef3055",
      "metadata": {
        "id": "a5ef3055"
      },
      "source": [
        "Referring to the 12th item of a list that has only 10\n",
        "items"
      ]
    },
    {
      "cell_type": "markdown",
      "id": "d0fd682e",
      "metadata": {
        "id": "d0fd682e"
      },
      "source": [
        "'index out of range'"
      ]
    },
    {
      "cell_type": "markdown",
      "id": "bbdaf216",
      "metadata": {
        "id": "bbdaf216"
      },
      "source": [
        "Using a value that is out of range for a function’s\n",
        "input, such as calling math.sqrt(-1.0)"
      ]
    },
    {
      "cell_type": "markdown",
      "id": "79070faa",
      "metadata": {
        "id": "79070faa"
      },
      "source": [
        "math domain error"
      ]
    },
    {
      "cell_type": "markdown",
      "id": "a0eacbfe",
      "metadata": {
        "id": "a0eacbfe"
      },
      "source": [
        "Using an undeclared variable, such as print(x)\n",
        "when x has not been defined"
      ]
    },
    {
      "cell_type": "markdown",
      "id": "6d911ca3",
      "metadata": {
        "id": "6d911ca3"
      },
      "source": [
        "'x' not defined"
      ]
    },
    {
      "cell_type": "markdown",
      "id": "0924b2bc",
      "metadata": {
        "id": "0924b2bc"
      },
      "source": [
        "Trying to open a file that does not exist, such as\n",
        "mistyping the file name or looking in the wrong\n",
        "directory."
      ]
    },
    {
      "cell_type": "markdown",
      "id": "035055b6",
      "metadata": {
        "id": "035055b6"
      },
      "source": [
        "'No such file or directory'"
      ]
    },
    {
      "cell_type": "markdown",
      "id": "a18310ee",
      "metadata": {
        "id": "a18310ee"
      },
      "source": [
        "# Question 10\n",
        "Encryption is the process of hiding the meaning of a text by substituting letters in the\n",
        "message with other letters, according to some system. If the process is successful, no\n",
        "one but the intended recipient can understand the encrypted message. Cryptanalysis\n",
        "refers to attempts to undo the encryption, even if some details of the encryption are\n",
        "unknown (for example, if an encrypted message has been intercepted). The first step\n",
        "of cryptanalysis is often to build up a table of letter frequencies in the encrypted text.\n",
        "Assume that the string letters is already defined as\n",
        "'abcdefghijklmnopqrstuvwxyz'. Write a function called frequencies()\n",
        "that takes a string as its only parameter, and returns a list of integers, showing the\n",
        "number of times each character appears in the text. Your function may ignore any\n",
        "characters that are not in letters."
      ]
    },
    {
      "cell_type": "code",
      "execution_count": null,
      "id": "23724fce",
      "metadata": {
        "id": "23724fce",
        "outputId": "1c09b899-29fe-41ec-862f-4302d3485b6f"
      },
      "outputs": [
        {
          "name": "stdout",
          "output_type": "stream",
          "text": [
            "0\n",
            "1\n",
            "0\n",
            "1\n",
            "1\n",
            "0\n",
            "2\n",
            "1\n",
            "4\n",
            "0\n",
            "0\n",
            "1\n",
            "0\n",
            "3\n",
            "3\n",
            "1\n",
            "0\n",
            "0\n",
            "1\n",
            "2\n",
            "1\n",
            "1\n",
            "0\n",
            "0\n",
            "0\n",
            "0\n"
          ]
        }
      ],
      "source": [
        "def frequencies(encryption):\n",
        "    Letters = []\n",
        "    stringletters = \"abcdefghijklmnopqrstuvwxyz\"\n",
        "\n",
        "    for x in encryption:\n",
        "        Letters.append(x)\n",
        "\n",
        "    for x in stringletters:\n",
        "        print(Letters.count(x))\n",
        "\n",
        "frequencies ('giving up is not in the blood')\n"
      ]
    },
    {
      "cell_type": "code",
      "execution_count": null,
      "id": "af4db848",
      "metadata": {
        "id": "af4db848"
      },
      "outputs": [],
      "source": []
    }
  ],
  "metadata": {
    "kernelspec": {
      "display_name": "Python 3 (ipykernel)",
      "language": "python",
      "name": "python3"
    },
    "language_info": {
      "codemirror_mode": {
        "name": "ipython",
        "version": 3
      },
      "file_extension": ".py",
      "mimetype": "text/x-python",
      "name": "python",
      "nbconvert_exporter": "python",
      "pygments_lexer": "ipython3",
      "version": "3.11.5"
    },
    "colab": {
      "provenance": []
    }
  },
  "nbformat": 4,
  "nbformat_minor": 5
}